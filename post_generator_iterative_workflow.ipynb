{
 "cells": [
  {
   "cell_type": "code",
   "execution_count": 59,
   "id": "99f1c08e",
   "metadata": {},
   "outputs": [],
   "source": [
    "from langgraph.graph import StateGraph , START, END\n",
    "from typing import TypedDict , Literal , Annotated\n",
    "from langchain_ollama import ChatOllama\n",
    "from langchain_core.messages import HumanMessage , SystemMessage\n",
    "import operator"
   ]
  },
  {
   "cell_type": "code",
   "execution_count": 60,
   "id": "f81c938d",
   "metadata": {},
   "outputs": [],
   "source": [
    "generator_llm = ChatOllama(\n",
    "    model=\"gemma:2b\",\n",
    ")\n",
    "evaluator_llm = ChatOllama(\n",
    "    model = \"gemma:2b\"\n",
    ")\n",
    "optimizer_llm = ChatOllama(\n",
    "    model = \"gemma:2b\"\n",
    ")"
   ]
  },
  {
   "cell_type": "code",
   "execution_count": 61,
   "id": "a11d3023",
   "metadata": {},
   "outputs": [],
   "source": [
    "from pydantic import BaseModel , Field\n",
    "\n",
    "class TweetEvaluation(BaseModel):\n",
    "    evaluation: Literal['approved','needs_improvement']= Field(..., description='Final evaluation result'),\n",
    "    feedback: str = Field(..., description='Feedback for the tweet')"
   ]
  },
  {
   "cell_type": "code",
   "execution_count": 62,
   "id": "5d09353e",
   "metadata": {},
   "outputs": [
    {
     "name": "stderr",
     "output_type": "stream",
     "text": [
      "c:\\Users\\USER\\Desktop\\LangGraph\\venv\\Lib\\site-packages\\pydantic\\json_schema.py:2324: PydanticJsonSchemaWarning: Default value (FieldInfo(annotation=NoneType, required=True, description='Final evaluation result'),) is not JSON serializable; excluding default from JSON schema [non-serializable-default]\n",
      "  warnings.warn(message, PydanticJsonSchemaWarning)\n"
     ]
    }
   ],
   "source": [
    "structured_evaluated_llm = evaluator_llm.with_structured_output(TweetEvaluation)"
   ]
  },
  {
   "cell_type": "code",
   "execution_count": 64,
   "id": "d6156757",
   "metadata": {},
   "outputs": [],
   "source": [
    "class TweetState(TypedDict):\n",
    "    \n",
    "    topic : str \n",
    "    tweet : str\n",
    "    evaluation : Literal['approved','needs_improvement']\n",
    "    feedback : str\n",
    "    iteration : int\n",
    "    max_iterations : int\n",
    "    \n",
    "    tweet_history = Annotated[list[str] , operator.add]\n",
    "    feedback_history = Annotated[list[str] , operator.add]"
   ]
  },
  {
   "cell_type": "code",
   "execution_count": 65,
   "id": "4c8f3dd6",
   "metadata": {},
   "outputs": [],
   "source": [
    "def generate_tweet(state: TweetState) -> TweetState:\n",
    "    \n",
    "    messages = [\n",
    "    SystemMessage(content=\"You are a funny and clever Twitter/X influencer.\"),\n",
    "    HumanMessage(content=f\"\"\"\n",
    "Write a short, original, and hilarious tweet on the topic: \"{state['topic']}\".\n",
    "\n",
    "Rules:\n",
    "- Do NOT use question-answer format.\n",
    "- Max 280 characters.\n",
    "- Use observational humor, irony, sarcasm, or cultural references.\n",
    "- Think in meme logic, punchlines, or relatable takes.\n",
    "- Use simple, day to day english\n",
    "\"\"\")\n",
    "]\n",
    "\n",
    "    response = generator_llm.invoke(messages).content\n",
    "    \n",
    "    return {'tweet': response , 'tweet_history':[response]}\n",
    "    \n",
    "    "
   ]
  },
  {
   "cell_type": "code",
   "execution_count": 66,
   "id": "770e3d1e",
   "metadata": {},
   "outputs": [],
   "source": [
    "def evaluate_tweet(state: TweetState) -> TweetState:\n",
    "    messages = [\n",
    "        SystemMessage(content=\"You are a ruthless, no-laugh-given Twitter critic. You evaluate tweets based on humor, originality, virality, and tweet format.\"),\n",
    "        HumanMessage(content=f\"\"\"\n",
    "Evaluate the following tweet:\n",
    "\n",
    "Tweet: \"{state['tweet']}\"\n",
    "\n",
    "Use the criteria below to evaluate the tweet:\n",
    "1. Originality - Is this fresh, or have you seen it a hundred times before?\n",
    "2. Humor - Did it genuinely make you smile, laugh, or chuckle?\n",
    "3. Punchiness - Is it short, sharp, and scroll-stopping?\n",
    "4. Virality Potential - Would people retweet or share it?\n",
    "5. Format - Is it a well-formed tweet (not a setup-punchline joke, not a Q&A joke, and under 280 characters)?\n",
    "\n",
    "Auto-reject if:\n",
    "- It's written in question-answer format\n",
    "- It exceeds 280 characters\n",
    "- It reads like a traditional setup-punchline joke\n",
    "- Don't end with generic or deflating lines\n",
    "\n",
    "### Respond ONLY in structured format:\n",
    "- evaluation: \"approved\" or \"needs_improvement\"\n",
    "- feedback: One paragraph explaining the strengths and weaknesses\n",
    "\"\"\")\n",
    "    ]\n",
    "    \n",
    "    response = structured_evaluated_llm.invoke(messages)  \n",
    "    \n",
    "    return {\n",
    "        'evaluation': response.evaluation,  \n",
    "        'feedback': response.feedback,\n",
    "        'feedback_history' : [response.feedback]\n",
    "    }\n"
   ]
  },
  {
   "cell_type": "code",
   "execution_count": 67,
   "id": "9379fef0",
   "metadata": {},
   "outputs": [],
   "source": [
    "def optimize_tweet(state: TweetState):\n",
    "    \n",
    "    messages = [\n",
    "    SystemMessage(content=\"You punch up tweets for virality and humor based on given feedback.\"),\n",
    "    HumanMessage(content=f\"\"\"Improve the tweet based on this feedback:\n",
    "\"{state['feedback']}\"\n",
    "\n",
    "Topic: \"{state['topic']}\"\n",
    "Original Tweet:\n",
    "{state['tweet']}\n",
    "\n",
    "Re-write it as a short, viral-worthy tweet. Avoid Q&A style and stay under 280 characters.\n",
    "\"\"\")\n",
    "]\n",
    "    \n",
    "    response = optimizer_llm(messages).content\n",
    "    iteration = state['iteration'] + 1\n",
    "\n",
    "    return {'tweet': response , 'iteration': iteration, 'tweet_history':[response]}"
   ]
  },
  {
   "cell_type": "code",
   "execution_count": 68,
   "id": "60ac36ed",
   "metadata": {},
   "outputs": [],
   "source": [
    "def iterate_evaluation(state: TweetState):\n",
    "    \n",
    "    if state['evaluation'] == 'approved' or state['iteration'] >= state['max_iterations']:\n",
    "        return 'approved'\n",
    "    else :\n",
    "        return 'needs_improvement'"
   ]
  },
  {
   "cell_type": "code",
   "execution_count": 69,
   "id": "0a444bed",
   "metadata": {},
   "outputs": [],
   "source": [
    "graph = StateGraph(TweetState)\n",
    "\n",
    "graph.add_node('generate',generate_tweet)\n",
    "graph.add_node('evaluate',evaluate_tweet)\n",
    "graph.add_node('optimize',optimize_tweet)\n",
    "\n",
    "graph.add_edge(START , 'generate')\n",
    "graph.add_edge('generate', 'evaluate')\n",
    "\n",
    "graph.add_conditional_edges('evaluate', iterate_evaluation, { 'approved' : END , 'needs_improvement' : 'optimize' })\n",
    "\n",
    "graph.add_edge('optimize' , 'evaluate')\n",
    "\n",
    "workflow = graph.compile()"
   ]
  },
  {
   "cell_type": "code",
   "execution_count": 70,
   "id": "079668ff",
   "metadata": {},
   "outputs": [
    {
     "name": "stderr",
     "output_type": "stream",
     "text": [
      "c:\\Users\\USER\\Desktop\\LangGraph\\venv\\Lib\\site-packages\\pydantic\\json_schema.py:2324: PydanticJsonSchemaWarning: Default value (FieldInfo(annotation=NoneType, required=True, description='Final evaluation result'),) is not JSON serializable; excluding default from JSON schema [non-serializable-default]\n",
      "  warnings.warn(message, PydanticJsonSchemaWarning)\n"
     ]
    },
    {
     "data": {
      "text/plain": [
       "{'topic': 'World Peace',\n",
       " 'tweet': 'World peace is like a fine wine: it gets better with age (and even more so with a good laugh). #KeepCalmAndEmbraceLaughter',\n",
       " 'evaluation': 'approved',\n",
       " 'feedback': 'approved',\n",
       " 'iteration': 1,\n",
       " 'max_iterations': 5}"
      ]
     },
     "execution_count": 70,
     "metadata": {},
     "output_type": "execute_result"
    }
   ],
   "source": [
    "initial_state = {\n",
    "    'topic' : 'World Peace',\n",
    "    'iteration' : 1,\n",
    "    'max_iterations' : 5,\n",
    "}\n",
    "\n",
    "workflow.invoke(initial_state)"
   ]
  }
 ],
 "metadata": {
  "kernelspec": {
   "display_name": "venv",
   "language": "python",
   "name": "python3"
  },
  "language_info": {
   "codemirror_mode": {
    "name": "ipython",
    "version": 3
   },
   "file_extension": ".py",
   "mimetype": "text/x-python",
   "name": "python",
   "nbconvert_exporter": "python",
   "pygments_lexer": "ipython3",
   "version": "3.11.0"
  }
 },
 "nbformat": 4,
 "nbformat_minor": 5
}
