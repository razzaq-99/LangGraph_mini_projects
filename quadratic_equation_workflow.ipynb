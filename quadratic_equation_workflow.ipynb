{
 "cells": [
  {
   "cell_type": "code",
   "execution_count": 1,
   "id": "722f74f6",
   "metadata": {},
   "outputs": [],
   "source": [
    "from langgraph.graph import StateGraph , START, END\n",
    "from typing import TypedDict , Literal"
   ]
  },
  {
   "cell_type": "code",
   "execution_count": 2,
   "id": "ea78c9db",
   "metadata": {},
   "outputs": [],
   "source": [
    "class QEState(TypedDict):\n",
    "    \n",
    "    a: int \n",
    "    b: int \n",
    "    c: int\n",
    "    \n",
    "    equation: str\n",
    "    discreminant: float\n",
    "    result: str"
   ]
  },
  {
   "cell_type": "code",
   "execution_count": 13,
   "id": "8598c497",
   "metadata": {},
   "outputs": [],
   "source": [
    "def show_equation(state: QEState) -> QEState:\n",
    "    equation = f\"{state['a']}x^2 + {state['b']}x + {state['c']} \"\n",
    "    \n",
    "    return {'equation': equation}\n",
    "\n",
    "\n",
    "def calculate_discreminant(state: QEState) -> QEState:\n",
    "    \n",
    "    discreminant = state['b']**2 - (4*state['a']*state['c'])\n",
    "    \n",
    "    return {'discreminant': discreminant}\n",
    "    \n",
    "\n",
    "def real_roots(state: QEState) -> QEState:\n",
    "    \n",
    "    root1 = (-state['b'] + state['discreminant']**0.5) / (2 * state['a'])\n",
    "    root2 = (-state['b'] - state['discreminant']**0.5) / (2 * state['a'])\n",
    "    \n",
    "    result = f\"The roots are real and distinct: {root1} and {root2}\"\n",
    "    \n",
    "    return {'result': result}\n",
    "\n",
    "def repeated_roots(state: QEState) -> QEState:\n",
    "    \n",
    "    root = (-state['b']) / (2 * state['a'])\n",
    "    result = f\"The only repeated root is: {root}\"\n",
    "    \n",
    "    return {'result': result}\n",
    "\n",
    "\n",
    "def no_real_roots(state: QEState) -> QEState:\n",
    "    \n",
    "    result = f\"No real roots exist\"    \n",
    "    \n",
    "    return {'result': result}\n",
    "\n",
    "\n",
    "def check_condition(state : QEState) -> Literal[\"real_roots\", \"repeated_roots\", \"no_real_roots\"]:\n",
    "    \n",
    "    if state['discreminant'] > 0:\n",
    "        return \"real_roots\"\n",
    "    elif state['discreminant'] == 0:\n",
    "        return \"repeated_roots\"\n",
    "    else:\n",
    "        return \"no_real_roots\""
   ]
  },
  {
   "cell_type": "code",
   "execution_count": 15,
   "id": "22deb57e",
   "metadata": {},
   "outputs": [],
   "source": [
    "graph = StateGraph(QEState)\n",
    "\n",
    "graph.add_node('show_equation',show_equation)\n",
    "graph.add_node('calculate_discreminant',calculate_discreminant)\n",
    "graph.add_node('real_roots', real_roots)\n",
    "graph.add_node('repeated_roots', repeated_roots)\n",
    "graph.add_node('no_real_roots', no_real_roots)\n",
    "\n",
    "\n",
    "graph.add_edge(START, 'show_equation')\n",
    "graph.add_edge('show_equation', 'calculate_discreminant')\n",
    "graph.add_conditional_edges('calculate_discreminant', check_condition)\n",
    "\n",
    "graph.add_edge('real_roots', END)\n",
    "graph.add_edge('repeated_roots', END)\n",
    "graph.add_edge('no_real_roots', END)\n",
    "\n",
    "workflow = graph.compile()"
   ]
  },
  {
   "cell_type": "code",
   "execution_count": 16,
   "id": "602dcd90",
   "metadata": {},
   "outputs": [
    {
     "data": {
      "text/plain": [
       "{'a': 4,\n",
       " 'b': -3,\n",
       " 'c': -2,\n",
       " 'equation': '4x^2 + -3x + -2 ',\n",
       " 'discreminant': 41,\n",
       " 'result': 'The roots are real and distinct: 1.175390529679106 and -0.42539052967910607'}"
      ]
     },
     "execution_count": 16,
     "metadata": {},
     "output_type": "execute_result"
    }
   ],
   "source": [
    "initial_state = {\n",
    "    'a': 4,\n",
    "    'b': -3,\n",
    "    'c': -2\n",
    "}\n",
    "\n",
    "workflow.invoke(initial_state)"
   ]
  }
 ],
 "metadata": {
  "kernelspec": {
   "display_name": "venv",
   "language": "python",
   "name": "python3"
  },
  "language_info": {
   "codemirror_mode": {
    "name": "ipython",
    "version": 3
   },
   "file_extension": ".py",
   "mimetype": "text/x-python",
   "name": "python",
   "nbconvert_exporter": "python",
   "pygments_lexer": "ipython3",
   "version": "3.11.0"
  }
 },
 "nbformat": 4,
 "nbformat_minor": 5
}
