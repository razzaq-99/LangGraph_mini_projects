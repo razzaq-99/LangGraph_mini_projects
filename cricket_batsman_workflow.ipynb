{
 "cells": [
  {
   "cell_type": "code",
   "execution_count": 46,
   "id": "29c97ec9",
   "metadata": {},
   "outputs": [],
   "source": [
    "from langgraph.graph import START, END, StateGraph\n",
    "from typing import TypedDict,Annotated"
   ]
  },
  {
   "cell_type": "code",
   "execution_count": 47,
   "id": "944eee9f",
   "metadata": {},
   "outputs": [],
   "source": [
    "class CricketBatsmanState(TypedDict):\n",
    "    runs: int\n",
    "    balls: int\n",
    "    fours: int\n",
    "    sixes: int\n",
    "    sr: Annotated[float, \"merge\"]\n",
    "    bpb: Annotated[float, \"merge\"]\n",
    "    boundary_percentage: Annotated[float, \"merge\"]\n",
    "    summary: Annotated[str, \"merge\"]"
   ]
  },
  {
   "cell_type": "code",
   "execution_count": 48,
   "id": "002627ee",
   "metadata": {},
   "outputs": [],
   "source": [
    "def calculate_sr(state: CricketBatsmanState) -> dict:\n",
    "    sr = (state['runs'] / state['balls']) * 100\n",
    "    return {'sr': sr}"
   ]
  },
  {
   "cell_type": "code",
   "execution_count": 49,
   "id": "9f7ae5aa",
   "metadata": {},
   "outputs": [],
   "source": [
    "def calculate_bpb(state: CricketBatsmanState) -> dict:\n",
    "    bpb = state['balls'] / (state['fours'] + state['sixes'])\n",
    "    return {'bpb': bpb}"
   ]
  },
  {
   "cell_type": "code",
   "execution_count": 50,
   "id": "5286614c",
   "metadata": {},
   "outputs": [],
   "source": [
    "def calculate_boundary_percentage(state: CricketBatsmanState) -> dict:\n",
    "    boundary_percentage = (((state['fours'] * 4) + (state['sixes'] * 6)) / state['runs']) * 100\n",
    "    return {'boundary_percentage': boundary_percentage}"
   ]
  },
  {
   "cell_type": "code",
   "execution_count": 51,
   "id": "7b2cf08d",
   "metadata": {},
   "outputs": [],
   "source": [
    "def summary(state: CricketBatsmanState) -> dict:\n",
    "    summary = (\n",
    "        f\"Runs: {state['runs']}, Balls: {state['balls']}, \"\n",
    "        f\"Fours: {state['fours']}, Sixes: {state['sixes']}, \"\n",
    "        f\"Strike Rate: {state['sr']:.2f}, BPB: {state['bpb']:.2f}, \"\n",
    "        f\"Boundary%: {state['boundary_percentage']:.2f}\"\n",
    "    )\n",
    "    return {'summary': summary}"
   ]
  },
  {
   "cell_type": "code",
   "execution_count": 52,
   "id": "13bf6e52",
   "metadata": {},
   "outputs": [],
   "source": [
    "graph = StateGraph(CricketBatsmanState)\n",
    "\n",
    "graph.add_node('calculate_sr', calculate_sr)\n",
    "graph.add_node('calculate_bpb', calculate_bpb)\n",
    "graph.add_node('calculate_boundary_percentage', calculate_boundary_percentage)\n",
    "graph.add_node('summary', summary)\n",
    "\n",
    "\n",
    "graph.add_edge(START, 'calculate_sr')\n",
    "graph.add_edge(START, 'calculate_bpb')\n",
    "graph.add_edge(START, 'calculate_boundary_percentage')\n",
    "graph.add_edge('calculate_sr', 'summary')\n",
    "graph.add_edge('calculate_bpb', 'summary')\n",
    "graph.add_edge('calculate_boundary_percentage', 'summary')\n",
    "\n",
    "graph.add_edge('summary', END)\n",
    "\n",
    "workflow = graph.compile()"
   ]
  },
  {
   "cell_type": "code",
   "execution_count": 64,
   "id": "f1a918b9",
   "metadata": {},
   "outputs": [
    {
     "name": "stdout",
     "output_type": "stream",
     "text": [
      "Strike Rate :  250.0\n",
      "boundary Per ball :  2.6666666666666665\n",
      "Boundary Percentage :  70.0\n",
      "\n",
      "Complete Summary :  Runs: 100, Balls: 40, Fours: 10, Sixes: 5, Strike Rate: 250.00, BPB: 2.67, Boundary%: 70.00\n"
     ]
    }
   ],
   "source": [
    "initial_state = {\n",
    "    'runs': 100,\n",
    "    'balls': 40,\n",
    "    'fours': 10,\n",
    "    'sixes': 5\n",
    "}\n",
    "\n",
    "final_state = workflow.invoke(initial_state)\n",
    "\n",
    "print(\"Strike Rate : \",final_state['sr'])\n",
    "print(\"boundary Per ball : \",final_state['bpb'])\n",
    "print(\"Boundary Percentage : \",final_state['boundary_percentage'])\n",
    "print(\"\\nComplete Summary : \",final_state['summary'])"
   ]
  }
 ],
 "metadata": {
  "kernelspec": {
   "display_name": "venv",
   "language": "python",
   "name": "python3"
  },
  "language_info": {
   "codemirror_mode": {
    "name": "ipython",
    "version": 3
   },
   "file_extension": ".py",
   "mimetype": "text/x-python",
   "name": "python",
   "nbconvert_exporter": "python",
   "pygments_lexer": "ipython3",
   "version": "3.11.0"
  }
 },
 "nbformat": 4,
 "nbformat_minor": 5
}
