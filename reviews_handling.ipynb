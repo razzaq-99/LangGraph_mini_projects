{
 "cells": [
  {
   "cell_type": "code",
   "execution_count": 1,
   "id": "38a82c16",
   "metadata": {},
   "outputs": [],
   "source": [
    "from langgraph.graph import StateGraph, START, END\n",
    "from typing import TypedDict, Literal\n",
    "from langchain_ollama import ChatOllama\n",
    "from dotenv import load_dotenv\n",
    "from pydantic import BaseModel, Field\n"
   ]
  },
  {
   "cell_type": "code",
   "execution_count": 2,
   "id": "a7444258",
   "metadata": {},
   "outputs": [
    {
     "data": {
      "text/plain": [
       "False"
      ]
     },
     "execution_count": 2,
     "metadata": {},
     "output_type": "execute_result"
    }
   ],
   "source": [
    "load_dotenv()"
   ]
  },
  {
   "cell_type": "code",
   "execution_count": 3,
   "id": "f7368e34",
   "metadata": {},
   "outputs": [],
   "source": [
    "model = ChatOllama(\n",
    "    model=\"gemma:2b\"\n",
    ")"
   ]
  },
  {
   "cell_type": "code",
   "execution_count": 4,
   "id": "2dfb29b2",
   "metadata": {},
   "outputs": [],
   "source": [
    "class SentimentSchema(BaseModel):\n",
    "    \n",
    "    sentiment : Literal['positive', 'negative'] = Field(description=\"The sentiment of the review\")\n",
    "    "
   ]
  },
  {
   "cell_type": "code",
   "execution_count": 5,
   "id": "efa829b2",
   "metadata": {},
   "outputs": [],
   "source": [
    "structured_model = model.with_structured_output(SentimentSchema)"
   ]
  },
  {
   "cell_type": "code",
   "execution_count": 7,
   "id": "870a54eb",
   "metadata": {},
   "outputs": [
    {
     "data": {
      "text/plain": [
       "SentimentSchema(sentiment='positive')"
      ]
     },
     "execution_count": 7,
     "metadata": {},
     "output_type": "execute_result"
    }
   ],
   "source": [
    "prompt = \"\"\"What is the sentiment of the following review?/n The product was great, I really liked it!\"\"\"\n",
    "structured_model.invoke(prompt)"
   ]
  },
  {
   "cell_type": "code",
   "execution_count": 8,
   "id": "7be895f1",
   "metadata": {},
   "outputs": [],
   "source": [
    "class ReviewState(TypedDict):\n",
    "    \n",
    "    review: str\n",
    "    sentiment: Literal['positive', 'negative']\n",
    "    diagnosis: str\n",
    "    response: str"
   ]
  },
  {
   "cell_type": "code",
   "execution_count": 14,
   "id": "9ab5557e",
   "metadata": {},
   "outputs": [],
   "source": [
    "def find_sentiment(state: ReviewState) -> ReviewState:\n",
    "    \n",
    "    prompt = f\"What is the sentiment of the following review? {state['review']}\"\n",
    "    sentiment = structured_model.invoke(prompt).sentiment\n",
    "    \n",
    "    return {'sentiment': sentiment}\n",
    "\n",
    "\n",
    "def check_condition(state : ReviewState) -> Literal[\"postive_response\",\"run_diagnosis\"]:\n",
    "    \n",
    "    if state['sentiment'] == 'positive':\n",
    "        return 'postive_response',\n",
    "    else :\n",
    "        return 'run_diagnosis'\n",
    "    \n",
    "\n",
    "def run_diagnosis(state: ReviewState) -> ReviewState:\n",
    "    \n",
    "    prompt = f\"Diagnose the following negative review in aspect of tone , issue and urgency \\n: {state['review']}\"\n",
    "    diagnosis = model.invoke(prompt).content\n",
    "    \n",
    "    return {'diagnosis': diagnosis}\n",
    "\n",
    "\n",
    "def postive_response(state: ReviewState) -> ReviewState:\n",
    "\n",
    "    prompt = f\"Write a positive response and Thank you note for the following review: {state['review']}\"\n",
    "    response = model.invoke(prompt).content\n",
    "\n",
    "    return {'response': response}\n",
    "\n",
    "def negative_response(state: ReviewState) -> ReviewState:\n",
    "    \n",
    "    prompt = f\"Write a apology note and positive solution of the issue based on diagnosis: {state['diagnosis']}\"\n",
    "    \n",
    "    response = model.invoke(prompt).content\n",
    "    \n",
    "    return {'response': response}\n",
    "    "
   ]
  },
  {
   "cell_type": "code",
   "execution_count": 17,
   "id": "9e2a3941",
   "metadata": {},
   "outputs": [],
   "source": [
    "graph = StateGraph(ReviewState)\n",
    "\n",
    "graph.add_node('find_sentiment', find_sentiment)\n",
    "graph.add_node('run_diagnosis', run_diagnosis)\n",
    "graph.add_node('postive_response', postive_response)\n",
    "graph.add_node('negative_response', negative_response)\n",
    "\n",
    "\n",
    "graph.add_edge(START, 'find_sentiment')\n",
    "graph.add_conditional_edges('find_sentiment', check_condition)\n",
    "graph.add_edge('run_diagnosis', 'negative_response')\n",
    "graph.add_edge('postive_response', END)\n",
    "graph.add_edge('negative_response', END)\n",
    "\n",
    "workflow = graph.compile()"
   ]
  },
  {
   "cell_type": "code",
   "execution_count": 22,
   "id": "97cd9413",
   "metadata": {},
   "outputs": [
    {
     "data": {
      "text/plain": [
       "{'review': 'The product was too bad , I need to return it please how can I do that?',\n",
       " 'sentiment': 'negative',\n",
       " 'diagnosis': \"**Tone:**  Negative\\n\\n**Issue:** Product quality \\n\\n**Urgency:** High\\n\\n**Explanation:** \\n\\n* **Tone:**  The tone is negative and accusatory, with the reviewer expressing strong dissatisfaction with the product and its quality. \\n\\n\\n* **Issue:** The issue is with the product itself, and not with the customer's handling or use of it. \\n\\n\\n* **Urgency:**  The review is an urgent matter, as the reviewer is looking to get a refund for a product that did not meet their expectations.\",\n",
       " 'response': \"**Apology Note:**\\n\\nDear [Company Name],\\n\\nI am writing to express my sincere apologies for the negative feedback I received regarding the [Product Name]. I understand that the product did not meet your expectations and that this has caused you great disappointment.\\n\\nI take full responsibility for the quality of the product and the customer service I provided. I understand that I need to do better and that I need to make things right.\\n\\nI would like to offer you the following solutions to address the issues raised in the review:\\n\\n* **Immediate refund:** We will issue a full refund for the product, including shipping and handling costs.\\n* **Replacement:** We will replace the product with a new one that meets your expectations.\\n* **Product improvement:** We will work with our team to identify and implement improvements to the product to ensure that it meets customer expectations in the future.\\n* **Customer support:** We will provide you with ongoing customer support to ensure that you have a positive experience with us.\\n\\nI am committed to providing you with the best possible service and product. I hope that you will give us another chance to show you that we are dedicated to customer satisfaction.\\n\\nSincerely,\\n\\n[Your Name]\\n\\n\\n**Positive Solution:**\\n\\n* **Acknowledge the issue:** Acknowledge the customer's concerns and show that you understand their frustration.\\n\\n\\n* **Offer a solution:** Clearly outline the solutions you are offering to address the customer's issues.\\n\\n\\n* **Show commitment:** Demonstrate your commitment to customer satisfaction by offering an ongoing relationship and ongoing support.\"}"
      ]
     },
     "execution_count": 22,
     "metadata": {},
     "output_type": "execute_result"
    }
   ],
   "source": [
    "initial_state = {\n",
    "    'review': \"The product was too bad , I need to return it please how can I do that?\",}\n",
    "\n",
    "workflow.invoke(initial_state)"
   ]
  }
 ],
 "metadata": {
  "kernelspec": {
   "display_name": "venv",
   "language": "python",
   "name": "python3"
  },
  "language_info": {
   "codemirror_mode": {
    "name": "ipython",
    "version": 3
   },
   "file_extension": ".py",
   "mimetype": "text/x-python",
   "name": "python",
   "nbconvert_exporter": "python",
   "pygments_lexer": "ipython3",
   "version": "3.11.0"
  }
 },
 "nbformat": 4,
 "nbformat_minor": 5
}
