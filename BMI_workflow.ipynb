{
 "cells": [
  {
   "cell_type": "code",
   "execution_count": 6,
   "id": "d282e696",
   "metadata": {},
   "outputs": [],
   "source": [
    "from langgraph.graph import StateGraph , START , END\n",
    "from typing import TypedDict"
   ]
  },
  {
   "cell_type": "code",
   "execution_count": 17,
   "id": "27ab7973",
   "metadata": {},
   "outputs": [],
   "source": [
    "# Define the state\n",
    "class BMIState(TypedDict):\n",
    "    \n",
    "    weight_kg: float\n",
    "    height_m: float\n",
    "    bmi: float\n",
    "    bmi_category: str"
   ]
  },
  {
   "cell_type": "code",
   "execution_count": 5,
   "id": "e6fc7e35",
   "metadata": {},
   "outputs": [],
   "source": [
    "# Calculate BMI\n",
    "def calculate_bmi(state: BMIState) -> BMIState:\n",
    "    \n",
    "    weight = state['weight_kg']\n",
    "    height = state['height_m']\n",
    "    \n",
    "    bmi = weight / (height ** 2)\n",
    "    state['bmi'] = round(bmi, 2)\n",
    "    \n",
    "    return state\n",
    "    "
   ]
  },
  {
   "cell_type": "code",
   "execution_count": 18,
   "id": "ea79f2d5",
   "metadata": {},
   "outputs": [],
   "source": [
    "def bmi_category(state: BMIState) -> BMIState:\n",
    "    \n",
    "    bmi = state['bmi']\n",
    "\n",
    "    if bmi < 18.5:\n",
    "        state['bmi_category'] = 'Underweight'\n",
    "    elif bmi >= 18.5 and bmi < 24.9:\n",
    "        state['bmi_category'] = 'Fit'\n",
    "    elif bmi >= 25 and bmi < 29.9:\n",
    "        state['bmi_category'] = 'Overweight'\n",
    "    else:\n",
    "        state['bmi_category'] = 'Obese'\n",
    "\n",
    "    return state"
   ]
  },
  {
   "cell_type": "code",
   "execution_count": 19,
   "id": "921b0290",
   "metadata": {},
   "outputs": [],
   "source": [
    "graph = StateGraph(BMIState)\n",
    "\n",
    "# Add nodes\n",
    "graph.add_node('calculate_bmi', calculate_bmi)\n",
    "graph.add_node('bmi_category', bmi_category)\n",
    "\n",
    "# Add edges\n",
    "graph.add_edge(START, 'calculate_bmi')\n",
    "graph.add_edge('calculate_bmi','bmi_category')\n",
    "graph.add_edge('bmi_category', END)\n",
    "\n",
    "# Compile the workflow\n",
    "workflow = graph.compile()"
   ]
  },
  {
   "cell_type": "code",
   "execution_count": 25,
   "id": "5da6151d",
   "metadata": {},
   "outputs": [
    {
     "name": "stdout",
     "output_type": "stream",
     "text": [
      "{'weight_kg': 58, 'height_m': 1.8, 'bmi': 17.9, 'bmi_category': 'Underweight'}\n"
     ]
    }
   ],
   "source": [
    "initial_state = {'weight_kg': 58, 'height_m': 1.80}\n",
    "\n",
    "result = workflow.invoke(initial_state)\n",
    "\n",
    "print(result)"
   ]
  },
  {
   "cell_type": "code",
   "execution_count": 20,
   "id": "f21a2fb1",
   "metadata": {},
   "outputs": [
    {
     "data": {
      "image/png": "[encoded data removed]",
      "text/plain": [
       "<IPython.core.display.Image object>"
      ]
     },
     "execution_count": 20,
     "metadata": {},
     "output_type": "execute_result"
    }
   ],
   "source": [
    "## Visualize the workflow\n",
    "\n",
    "from IPython.display import Image\n",
    "Image(workflow.get_graph().draw_mermaid_png())"
   ]
  }
 ],
 "metadata": {
  "kernelspec": {
   "display_name": "venv",
   "language": "python",
   "name": "python3"
  },
  "language_info": {
   "codemirror_mode": {
    "name": "ipython",
    "version": 3
   },
   "file_extension": ".py",
   "mimetype": "text/x-python",
   "name": "python",
   "nbconvert_exporter": "python",
   "pygments_lexer": "ipython3",
   "version": "3.11.0"
  }
 },
 "nbformat": 4,
 "nbformat_minor": 5
}
