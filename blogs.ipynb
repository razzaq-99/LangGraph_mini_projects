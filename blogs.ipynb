{
 "cells": [
  {
   "cell_type": "code",
   "execution_count": null,
   "id": "3b88acdf",
   "metadata": {},
   "outputs": [],
   "source": [
    "from langgraph.graph import START , END , StateGraph\n",
    "from langchain_community.llms import ollama\n",
    "from dotenv import load_dotenv\n",
    "from typing import TypedDict"
   ]
  },
  {
   "cell_type": "code",
   "execution_count": 3,
   "id": "dbf057fa",
   "metadata": {},
   "outputs": [
    {
     "name": "stderr",
     "output_type": "stream",
     "text": [
      "C:\\Users\\USER\\AppData\\Local\\Temp\\ipykernel_15840\\2113301685.py:3: LangChainDeprecationWarning: The class `Ollama` was deprecated in LangChain 0.3.1 and will be removed in 1.0.0. An updated version of the class exists in the :class:`~langchain-ollama package and should be used instead. To use it run `pip install -U :class:`~langchain-ollama` and import as `from :class:`~langchain_ollama import OllamaLLM``.\n",
      "  model = ollama.Ollama(\n"
     ]
    }
   ],
   "source": [
    "load_dotenv()\n",
    "\n",
    "model = ollama.Ollama(\n",
    "    model=\"gemma:2b\",\n",
    ")"
   ]
  },
  {
   "cell_type": "code",
   "execution_count": 4,
   "id": "b75f88e1",
   "metadata": {},
   "outputs": [],
   "source": [
    "class BlogState(TypedDict):\n",
    "    \n",
    "    title: str\n",
    "    outline: str\n",
    "    content: str\n",
    "    "
   ]
  },
  {
   "cell_type": "code",
   "execution_count": 12,
   "id": "8ca4c7c0",
   "metadata": {},
   "outputs": [],
   "source": [
    "def create_outline(state: BlogState) -> BlogState:\n",
    "    \n",
    "    title = state[\"title\"]\n",
    "    prompt = f\"Write a blog outline for the following title: {title}\"\n",
    "    \n",
    "    outline = model.invoke(prompt)\n",
    "    \n",
    "    state[\"outline\"] = outline\n",
    "    \n",
    "    return state\n",
    "    \n",
    "    "
   ]
  },
  {
   "cell_type": "code",
   "execution_count": 13,
   "id": "a1d33492",
   "metadata": {},
   "outputs": [],
   "source": [
    "def write_content(state: BlogState) -> BlogState:\n",
    "    \n",
    "    title = state[\"title\"]\n",
    "    outline = state[\"outline\"]\n",
    "    \n",
    "    prompt = f\"Write a blog post for the following title and outline: {title}\\n{outline}\"\n",
    "    \n",
    "    content = model.invoke(prompt)\n",
    "    \n",
    "    state[\"content\"] = content\n",
    "    \n",
    "    return state"
   ]
  },
  {
   "cell_type": "code",
   "execution_count": 14,
   "id": "7944ab38",
   "metadata": {},
   "outputs": [],
   "source": [
    "graph = StateGraph(BlogState)\n",
    "\n",
    "graph.add_node('create_outline', create_outline,)\n",
    "graph.add_node('write_content', write_content,)\n",
    "\n",
    "graph.add_edge(START, 'create_outline')\n",
    "graph.add_edge('create_outline', 'write_content')\n",
    "graph.add_edge('write_content', END)\n",
    "\n",
    "workflow = graph.compile()"
   ]
  },
  {
   "cell_type": "code",
   "execution_count": 18,
   "id": "1589a8af",
   "metadata": {},
   "outputs": [
    {
     "name": "stdout",
     "output_type": "stream",
     "text": [
      "**Blog Post: The Future of AI in Healthcare**\n",
      "\n",
      "**Introduction:**\n",
      "\n",
      "The field of healthcare is witnessing a revolution driven by artificial intelligence (AI). AI has emerged as a game-changer, promising improved accuracy, efficiency, and personalized care for patients. This blog post explores the future of AI in healthcare, highlighting its potential to revolutionize the industry.\n",
      "\n",
      "**Emerging Trends in AI for Healthcare:**\n",
      "\n",
      "* **AI algorithms:** AI algorithms will play a crucial role in automating tasks, analyzing medical data, and uncovering hidden patterns.\n",
      "* **Natural Language Processing (NLP):** AI will be able to analyze and understand human language, leading to more accurate diagnosis and patient communication.\n",
      "* **Computer vision:** AI systems can analyze medical images and data, enabling early disease detection and predicting health risks.\n",
      "* **Machine learning:** AI algorithms will continue to improve as they learn from vast datasets, leading to breakthroughs in personalized medicine and drug discovery.\n",
      "\n",
      "**Benefits and Challenges of AI in Healthcare:**\n",
      "\n",
      "**Benefits:**\n",
      "* Improved accuracy and efficiency\n",
      "* Enhanced patient care\n",
      "* Reduced costs\n",
      "\n",
      "**Challenges:**\n",
      "* Ethical considerations\n",
      "* Bias and privacy\n",
      "* Transparency and accountability\n",
      "\n",
      "**Real-World Applications of AI in Healthcare:**\n",
      "\n",
      "* Disease prediction and early detection\n",
      "* Personalized medicine and drug discovery\n",
      "* Enhanced diagnostics and imaging\n",
      "* Virtual assistants and chatbot\n",
      "\n",
      "**The Future of AI in Healthcare:**\n",
      "\n",
      "AI is poised to transform healthcare by:\n",
      "\n",
      "* Automating tasks and reducing human error\n",
      "* Personalizing treatment plans\n",
      "* Improving patient outcomes\n",
      "* Enhancing data-driven decision-making\n",
      "\n",
      "**Conclusion:**\n",
      "\n",
      "The future of AI in healthcare is bright. By embracing AI, healthcare professionals can achieve significant advancements in disease prediction, personalized medicine, and patient care. However, it is crucial to address ethical and social concerns related to AI development and use, ensuring that it benefits all patients and society.\n"
     ]
    }
   ],
   "source": [
    "initial_state = {'title': 'Future of AI in Healthcare'}\n",
    "\n",
    "result = workflow.invoke(initial_state)\n",
    "\n",
    "print(result['content'])"
   ]
  }
 ],
 "metadata": {
  "kernelspec": {
   "display_name": "venv",
   "language": "python",
   "name": "python3"
  },
  "language_info": {
   "codemirror_mode": {
    "name": "ipython",
    "version": 3
   },
   "file_extension": ".py",
   "mimetype": "text/x-python",
   "name": "python",
   "nbconvert_exporter": "python",
   "pygments_lexer": "ipython3",
   "version": "3.11.0"
  }
 },
 "nbformat": 4,
 "nbformat_minor": 5
}
