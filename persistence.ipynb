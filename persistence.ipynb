{
 "cells": [
  {
   "cell_type": "code",
   "execution_count": 2,
   "id": "5d532348",
   "metadata": {},
   "outputs": [],
   "source": [
    "from langgraph.graph import StateGraph , START , END\n",
    "from langchain_ollama import ChatOllama\n",
    "from typing import Annotated , TypedDict\n",
    "from langgraph.checkpoint.memory import InMemorySaver\n",
    "from dotenv import load_dotenv"
   ]
  },
  {
   "cell_type": "code",
   "execution_count": 3,
   "id": "edd7c0fb",
   "metadata": {},
   "outputs": [],
   "source": [
    "load_dotenv()\n",
    "\n",
    "llm = ChatOllama(model='gemma:2b')"
   ]
  },
  {
   "cell_type": "code",
   "execution_count": 4,
   "id": "fbfdf0eb",
   "metadata": {},
   "outputs": [],
   "source": [
    "class JokeState(TypedDict):\n",
    "    \n",
    "    topic : str\n",
    "    joke : str\n",
    "    explanation : str"
   ]
  },
  {
   "cell_type": "code",
   "execution_count": 5,
   "id": "aa1e1c00",
   "metadata": {},
   "outputs": [],
   "source": [
    "def generate_joke(state : JokeState) -> JokeState:\n",
    "    \n",
    "    prompt = f\"Generate a joke about {state['topic']}\"\n",
    "    \n",
    "    response = llm.invoke(prompt).content\n",
    "    \n",
    "    return {'joke' : response}"
   ]
  },
  {
   "cell_type": "code",
   "execution_count": 6,
   "id": "71a3b540",
   "metadata": {},
   "outputs": [],
   "source": [
    "def generate_explanation(state : JokeState) -> JokeState:\n",
    "    \n",
    "    prompt = f\"Explain the joke '{state['joke']}'\"\n",
    "\n",
    "    response = llm.invoke(prompt).content\n",
    "\n",
    "    return {'explanation' : response}"
   ]
  },
  {
   "cell_type": "code",
   "execution_count": 10,
   "id": "ed679141",
   "metadata": {},
   "outputs": [],
   "source": [
    "graph = StateGraph(JokeState)\n",
    "\n",
    "graph.add_node('generate_joke' , generate_joke)\n",
    "graph.add_node('generate_explanation', generate_explanation)\n",
    "\n",
    "graph.add_edge(START , 'generate_joke')\n",
    "graph.add_edge('generate_joke' , 'generate_explanation')\n",
    "graph.add_edge('generate_explanation' , END)\n",
    "\n",
    "checkpointer = InMemorySaver()\n",
    "\n",
    "workflow = graph.compile(checkpointer=checkpointer)"
   ]
  }
 ],
 "metadata": {
  "kernelspec": {
   "display_name": "venv",
   "language": "python",
   "name": "python3"
  },
  "language_info": {
   "codemirror_mode": {
    "name": "ipython",
    "version": 3
   },
   "file_extension": ".py",
   "mimetype": "text/x-python",
   "name": "python",
   "nbconvert_exporter": "python",
   "pygments_lexer": "ipython3",
   "version": "3.11.0"
  }
 },
 "nbformat": 4,
 "nbformat_minor": 5
}
