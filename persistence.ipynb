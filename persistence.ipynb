{
 "cells": [
  {
   "cell_type": "code",
   "execution_count": 1,
   "id": "5d532348",
   "metadata": {},
   "outputs": [],
   "source": [
    "from langgraph.graph import StateGraph , START , END\n",
    "from langchain_ollama import ChatOllama\n",
    "from typing import Annotated , TypedDict\n",
    "from langgraph.checkpoint.memory import InMemorySaver\n",
    "from dotenv import load_dotenv"
   ]
  },
  {
   "cell_type": "code",
   "execution_count": 2,
   "id": "edd7c0fb",
   "metadata": {},
   "outputs": [],
   "source": [
    "load_dotenv()\n",
    "\n",
    "llm = ChatOllama(model='gemma:2b')"
   ]
  },
  {
   "cell_type": "code",
   "execution_count": 3,
   "id": "fbfdf0eb",
   "metadata": {},
   "outputs": [],
   "source": [
    "class JokeState(TypedDict):\n",
    "    \n",
    "    topic : str\n",
    "    joke : str\n",
    "    explanation : str"
   ]
  },
  {
   "cell_type": "code",
   "execution_count": 4,
   "id": "aa1e1c00",
   "metadata": {},
   "outputs": [],
   "source": [
    "def generate_joke(state : JokeState) -> JokeState:\n",
    "    \n",
    "    prompt = f\"Generate a joke about {state['topic']}\"\n",
    "    \n",
    "    response = llm.invoke(prompt).content\n",
    "    \n",
    "    return {'joke' : response}"
   ]
  },
  {
   "cell_type": "code",
   "execution_count": 5,
   "id": "71a3b540",
   "metadata": {},
   "outputs": [],
   "source": [
    "def generate_explanation(state : JokeState) -> JokeState:\n",
    "    \n",
    "    prompt = f\"Explain the joke '{state['joke']}'\"\n",
    "\n",
    "    response = llm.invoke(prompt).content\n",
    "\n",
    "    return {'explanation' : response}"
   ]
  },
  {
   "cell_type": "code",
   "execution_count": 7,
   "id": "ed679141",
   "metadata": {},
   "outputs": [],
   "source": [
    "graph = StateGraph(JokeState)\n",
    "\n",
    "graph.add_node('generate_joke' , generate_joke)\n",
    "graph.add_node('generate_explanation', generate_explanation)\n",
    "\n",
    "graph.add_edge(START , 'generate_joke')\n",
    "graph.add_edge('generate_joke' , 'generate_explanation')\n",
    "graph.add_edge('generate_explanation' , END)\n",
    "\n",
    "checkpointer = InMemorySaver()\n",
    "\n",
    "workflow = graph.compile(checkpointer=checkpointer)"
   ]
  },
  {
   "cell_type": "code",
   "execution_count": 13,
   "id": "8485d1cf",
   "metadata": {},
   "outputs": [
    {
     "data": {
      "text/plain": [
       "{'topic': 'Education',\n",
       " 'joke': \"What do you call an education that's too easy?\\n\\nA GED!\",\n",
       " 'explanation': 'The joke is about the irony of the GED test. It is a test that is designed to measure a person\\'s education, yet the answer to the question \"What do you call an education that\\'s too easy?\" is simply \"A GED!\".'}"
      ]
     },
     "execution_count": 13,
     "metadata": {},
     "output_type": "execute_result"
    }
   ],
   "source": [
    "config1 = {'configurable': {'thread_id':'1'}}\n",
    "workflow.invoke({'topic':'Education'}, config=config1)"
   ]
  },
  {
   "cell_type": "code",
   "execution_count": 12,
   "id": "c0319a41",
   "metadata": {},
   "outputs": [
    {
     "data": {
      "text/plain": [
       "StateSnapshot(values={'topic': 'Education', 'joke': \"What do you call an education that's too easy?\\n\\nA textbook!\", 'explanation': 'The joke is a play on words that uses the literal meaning of the words \"textbook\" and \"easy\". The textbook is a book that is used for learning, and an easy problem is a problem that is easy to solve. The joke is that the textbook is literally a book that is too easy, and therefore cannot be used to learn anything.'}, next=(), config={'configurable': {'thread_id': '1', 'checkpoint_ns': '', 'checkpoint_id': '1f078354-3c9c-62c5-8006-a578aacfd64d'}}, metadata={'source': 'loop', 'step': 6, 'parents': {}}, created_at='2025-08-13T11:04:21.438125+00:00', parent_config={'configurable': {'thread_id': '1', 'checkpoint_ns': '', 'checkpoint_id': '1f078353-a70b-62aa-8005-8fd6cabb4d7a'}}, tasks=(), interrupts=())"
      ]
     },
     "execution_count": 12,
     "metadata": {},
     "output_type": "execute_result"
    }
   ],
   "source": [
    "workflow.get_state(config1)"
   ]
  },
  {
   "cell_type": "code",
   "execution_count": 15,
   "id": "7b8a512d",
   "metadata": {},
   "outputs": [
    {
     "data": {
      "text/plain": [
       "[StateSnapshot(values={'topic': 'Education', 'joke': \"What do you call an education that's too easy?\\n\\nA GED!\", 'explanation': 'The joke is about the irony of the GED test. It is a test that is designed to measure a person\\'s education, yet the answer to the question \"What do you call an education that\\'s too easy?\" is simply \"A GED!\".'}, next=(), config={'configurable': {'thread_id': '1', 'checkpoint_ns': '', 'checkpoint_id': '1f07835a-00d4-6b6f-800a-9936601ee38e'}}, metadata={'source': 'loop', 'step': 10, 'parents': {}}, created_at='2025-08-13T11:06:56.231102+00:00', parent_config={'configurable': {'thread_id': '1', 'checkpoint_ns': '', 'checkpoint_id': '1f078359-4c27-6bdb-8009-287144d12222'}}, tasks=(), interrupts=()),\n",
       " StateSnapshot(values={'topic': 'Education', 'joke': \"What do you call an education that's too easy?\\n\\nA GED!\", 'explanation': 'The joke is a play on words that uses the literal meaning of the words \"textbook\" and \"easy\". The textbook is a book that is used for learning, and an easy problem is a problem that is easy to solve. The joke is that the textbook is literally a book that is too easy, and therefore cannot be used to learn anything.'}, next=('generate_explanation',), config={'configurable': {'thread_id': '1', 'checkpoint_ns': '', 'checkpoint_id': '1f078359-4c27-6bdb-8009-287144d12222'}}, metadata={'source': 'loop', 'step': 9, 'parents': {}}, created_at='2025-08-13T11:06:37.285884+00:00', parent_config={'configurable': {'thread_id': '1', 'checkpoint_ns': '', 'checkpoint_id': '1f078359-0d21-67ee-8008-e712467680ba'}}, tasks=(PregelTask(id='fcc6ec06-6579-a215-f4fe-0f746205c5cf', name='generate_explanation', path=('__pregel_pull', 'generate_explanation'), error=None, interrupts=(), state=None, result={'explanation': 'The joke is about the irony of the GED test. It is a test that is designed to measure a person\\'s education, yet the answer to the question \"What do you call an education that\\'s too easy?\" is simply \"A GED!\".'}),), interrupts=()),\n",
       " StateSnapshot(values={'topic': 'Education', 'joke': \"What do you call an education that's too easy?\\n\\nA textbook!\", 'explanation': 'The joke is a play on words that uses the literal meaning of the words \"textbook\" and \"easy\". The textbook is a book that is used for learning, and an easy problem is a problem that is easy to solve. The joke is that the textbook is literally a book that is too easy, and therefore cannot be used to learn anything.'}, next=('generate_joke',), config={'configurable': {'thread_id': '1', 'checkpoint_ns': '', 'checkpoint_id': '1f078359-0d21-67ee-8008-e712467680ba'}}, metadata={'source': 'loop', 'step': 8, 'parents': {}}, created_at='2025-08-13T11:06:30.677297+00:00', parent_config={'configurable': {'thread_id': '1', 'checkpoint_ns': '', 'checkpoint_id': '1f078359-0d1c-6df6-8007-57de9f74f53f'}}, tasks=(PregelTask(id='e436bd4f-0b1c-1ba9-3eb6-e1177b3788bb', name='generate_joke', path=('__pregel_pull', 'generate_joke'), error=None, interrupts=(), state=None, result={'joke': \"What do you call an education that's too easy?\\n\\nA GED!\"}),), interrupts=()),\n",
       " StateSnapshot(values={'topic': 'Education', 'joke': \"What do you call an education that's too easy?\\n\\nA textbook!\", 'explanation': 'The joke is a play on words that uses the literal meaning of the words \"textbook\" and \"easy\". The textbook is a book that is used for learning, and an easy problem is a problem that is easy to solve. The joke is that the textbook is literally a book that is too easy, and therefore cannot be used to learn anything.'}, next=('__start__',), config={'configurable': {'thread_id': '1', 'checkpoint_ns': '', 'checkpoint_id': '1f078359-0d1c-6df6-8007-57de9f74f53f'}}, metadata={'source': 'input', 'step': 7, 'parents': {}}, created_at='2025-08-13T11:06:30.675403+00:00', parent_config={'configurable': {'thread_id': '1', 'checkpoint_ns': '', 'checkpoint_id': '1f078354-3c9c-62c5-8006-a578aacfd64d'}}, tasks=(PregelTask(id='98b5f339-2926-8f3e-8fbb-8a4b1c0624da', name='__start__', path=('__pregel_pull', '__start__'), error=None, interrupts=(), state=None, result={'topic': 'Education'}),), interrupts=()),\n",
       " StateSnapshot(values={'topic': 'Education', 'joke': \"What do you call an education that's too easy?\\n\\nA textbook!\", 'explanation': 'The joke is a play on words that uses the literal meaning of the words \"textbook\" and \"easy\". The textbook is a book that is used for learning, and an easy problem is a problem that is easy to solve. The joke is that the textbook is literally a book that is too easy, and therefore cannot be used to learn anything.'}, next=(), config={'configurable': {'thread_id': '1', 'checkpoint_ns': '', 'checkpoint_id': '1f078354-3c9c-62c5-8006-a578aacfd64d'}}, metadata={'source': 'loop', 'step': 6, 'parents': {}}, created_at='2025-08-13T11:04:21.438125+00:00', parent_config={'configurable': {'thread_id': '1', 'checkpoint_ns': '', 'checkpoint_id': '1f078353-a70b-62aa-8005-8fd6cabb4d7a'}}, tasks=(), interrupts=()),\n",
       " StateSnapshot(values={'topic': 'Education', 'joke': \"What do you call an education that's too easy?\\n\\nA textbook!\", 'explanation': 'The joke suggests that a strict education system is like a cram school, where students are crammed together and forced to learn in a repetitive and inefficient manner.'}, next=('generate_explanation',), config={'configurable': {'thread_id': '1', 'checkpoint_ns': '', 'checkpoint_id': '1f078353-a70b-62aa-8005-8fd6cabb4d7a'}}, metadata={'source': 'loop', 'step': 5, 'parents': {}}, created_at='2025-08-13T11:04:05.754948+00:00', parent_config={'configurable': {'thread_id': '1', 'checkpoint_ns': '', 'checkpoint_id': '1f078353-777c-6027-8004-f829b498f83d'}}, tasks=(PregelTask(id='296e1344-7362-a7ba-24ac-fe60a66c318f', name='generate_explanation', path=('__pregel_pull', 'generate_explanation'), error=None, interrupts=(), state=None, result={'explanation': 'The joke is a play on words that uses the literal meaning of the words \"textbook\" and \"easy\". The textbook is a book that is used for learning, and an easy problem is a problem that is easy to solve. The joke is that the textbook is literally a book that is too easy, and therefore cannot be used to learn anything.'}),), interrupts=()),\n",
       " StateSnapshot(values={'topic': 'Education', 'joke': \"What do you call an education system that's too strict?\\n\\nA cram school!\", 'explanation': 'The joke suggests that a strict education system is like a cram school, where students are crammed together and forced to learn in a repetitive and inefficient manner.'}, next=('generate_joke',), config={'configurable': {'thread_id': '1', 'checkpoint_ns': '', 'checkpoint_id': '1f078353-777c-6027-8004-f829b498f83d'}}, metadata={'source': 'loop', 'step': 4, 'parents': {}}, created_at='2025-08-13T11:04:00.768003+00:00', parent_config={'configurable': {'thread_id': '1', 'checkpoint_ns': '', 'checkpoint_id': '1f078353-7773-602f-8003-84c5b69c5b3b'}}, tasks=(PregelTask(id='1465f0c7-5240-a7f7-9c90-040bb604e677', name='generate_joke', path=('__pregel_pull', 'generate_joke'), error=None, interrupts=(), state=None, result={'joke': \"What do you call an education that's too easy?\\n\\nA textbook!\"}),), interrupts=()),\n",
       " StateSnapshot(values={'topic': 'Education', 'joke': \"What do you call an education system that's too strict?\\n\\nA cram school!\", 'explanation': 'The joke suggests that a strict education system is like a cram school, where students are crammed together and forced to learn in a repetitive and inefficient manner.'}, next=('__start__',), config={'configurable': {'thread_id': '1', 'checkpoint_ns': '', 'checkpoint_id': '1f078353-7773-602f-8003-84c5b69c5b3b'}}, metadata={'source': 'input', 'step': 3, 'parents': {}}, created_at='2025-08-13T11:04:00.764318+00:00', parent_config={'configurable': {'thread_id': '1', 'checkpoint_ns': '', 'checkpoint_id': '1f07834e-27b6-671d-8002-832b534c95e0'}}, tasks=(PregelTask(id='8ff5a356-5b29-ccb6-bfda-b8d42105c918', name='__start__', path=('__pregel_pull', '__start__'), error=None, interrupts=(), state=None, result={'topic': 'Education'}),), interrupts=()),\n",
       " StateSnapshot(values={'topic': 'Education', 'joke': \"What do you call an education system that's too strict?\\n\\nA cram school!\", 'explanation': 'The joke suggests that a strict education system is like a cram school, where students are crammed together and forced to learn in a repetitive and inefficient manner.'}, next=(), config={'configurable': {'thread_id': '1', 'checkpoint_ns': '', 'checkpoint_id': '1f07834e-27b6-671d-8002-832b534c95e0'}}, metadata={'source': 'loop', 'step': 2, 'parents': {}}, created_at='2025-08-13T11:01:38.185602+00:00', parent_config={'configurable': {'thread_id': '1', 'checkpoint_ns': '', 'checkpoint_id': '1f07834d-be3a-6bba-8001-8e9a666f79f5'}}, tasks=(), interrupts=()),\n",
       " StateSnapshot(values={'topic': 'Education', 'joke': \"What do you call an education system that's too strict?\\n\\nA cram school!\"}, next=('generate_explanation',), config={'configurable': {'thread_id': '1', 'checkpoint_ns': '', 'checkpoint_id': '1f07834d-be3a-6bba-8001-8e9a666f79f5'}}, metadata={'source': 'loop', 'step': 1, 'parents': {}}, created_at='2025-08-13T11:01:27.124882+00:00', parent_config={'configurable': {'thread_id': '1', 'checkpoint_ns': '', 'checkpoint_id': '1f07834b-d144-6b91-8000-e49eca087bbc'}}, tasks=(PregelTask(id='7e1651a3-7ba9-d84a-04ef-e96f28f1c7d5', name='generate_explanation', path=('__pregel_pull', 'generate_explanation'), error=None, interrupts=(), state=None, result={'explanation': 'The joke suggests that a strict education system is like a cram school, where students are crammed together and forced to learn in a repetitive and inefficient manner.'}),), interrupts=()),\n",
       " StateSnapshot(values={'topic': 'Education'}, next=('generate_joke',), config={'configurable': {'thread_id': '1', 'checkpoint_ns': '', 'checkpoint_id': '1f07834b-d144-6b91-8000-e49eca087bbc'}}, metadata={'source': 'loop', 'step': 0, 'parents': {}}, created_at='2025-08-13T11:00:35.434177+00:00', parent_config={'configurable': {'thread_id': '1', 'checkpoint_ns': '', 'checkpoint_id': '1f07834b-d12c-6d33-bfff-2067712dc87e'}}, tasks=(PregelTask(id='d8769454-2848-a70b-ce18-d41375864f9e', name='generate_joke', path=('__pregel_pull', 'generate_joke'), error=None, interrupts=(), state=None, result={'joke': \"What do you call an education system that's too strict?\\n\\nA cram school!\"}),), interrupts=()),\n",
       " StateSnapshot(values={}, next=('__start__',), config={'configurable': {'thread_id': '1', 'checkpoint_ns': '', 'checkpoint_id': '1f07834b-d12c-6d33-bfff-2067712dc87e'}}, metadata={'source': 'input', 'step': -1, 'parents': {}}, created_at='2025-08-13T11:00:35.424389+00:00', parent_config=None, tasks=(PregelTask(id='d100abcb-447e-1a87-7dfb-7d2ce2ab2532', name='__start__', path=('__pregel_pull', '__start__'), error=None, interrupts=(), state=None, result={'topic': 'Education'}),), interrupts=())]"
      ]
     },
     "execution_count": 15,
     "metadata": {},
     "output_type": "execute_result"
    }
   ],
   "source": [
    "list(workflow.get_state_history(config1))"
   ]
  },
  {
   "cell_type": "code",
   "execution_count": 16,
   "id": "a6984de1",
   "metadata": {},
   "outputs": [
    {
     "data": {
      "text/plain": [
       "{'topic': 'School',\n",
       " 'joke': \"What do you call a teacher who's too strict?\\n\\nA stickler for classroom rules!\",\n",
       " 'explanation': \"The joke suggests that a strict teacher is inflexible and overly demanding. It implies that the teacher's rules and expectations are so strict that they restrict the students' freedom of expression and creativity.\"}"
      ]
     },
     "execution_count": 16,
     "metadata": {},
     "output_type": "execute_result"
    }
   ],
   "source": [
    "config2 = {'configurable': {'thread_id':'2'}}\n",
    "workflow.invoke({'topic':'School'}, config=config2)"
   ]
  },
  {
   "cell_type": "code",
   "execution_count": 17,
   "id": "63930c85",
   "metadata": {},
   "outputs": [
    {
     "data": {
      "text/plain": [
       "StateSnapshot(values={'topic': 'School', 'joke': \"What do you call a teacher who's too strict?\\n\\nA stickler for classroom rules!\", 'explanation': \"The joke suggests that a strict teacher is inflexible and overly demanding. It implies that the teacher's rules and expectations are so strict that they restrict the students' freedom of expression and creativity.\"}, next=(), config={'configurable': {'thread_id': '2', 'checkpoint_ns': '', 'checkpoint_id': '1f078376-5c63-6916-8002-45ce7df91e49'}}, metadata={'source': 'loop', 'step': 2, 'parents': {}}, created_at='2025-08-13T11:19:37.450933+00:00', parent_config={'configurable': {'thread_id': '2', 'checkpoint_ns': '', 'checkpoint_id': '1f078375-cced-6d30-8001-fc95b112c184'}}, tasks=(), interrupts=())"
      ]
     },
     "execution_count": 17,
     "metadata": {},
     "output_type": "execute_result"
    }
   ],
   "source": [
    "workflow.get_state(config2)"
   ]
  },
  {
   "cell_type": "code",
   "execution_count": 18,
   "id": "d260a485",
   "metadata": {},
   "outputs": [
    {
     "data": {
      "text/plain": [
       "[StateSnapshot(values={'topic': 'School', 'joke': \"What do you call a teacher who's too strict?\\n\\nA stickler for classroom rules!\", 'explanation': \"The joke suggests that a strict teacher is inflexible and overly demanding. It implies that the teacher's rules and expectations are so strict that they restrict the students' freedom of expression and creativity.\"}, next=(), config={'configurable': {'thread_id': '2', 'checkpoint_ns': '', 'checkpoint_id': '1f078376-5c63-6916-8002-45ce7df91e49'}}, metadata={'source': 'loop', 'step': 2, 'parents': {}}, created_at='2025-08-13T11:19:37.450933+00:00', parent_config={'configurable': {'thread_id': '2', 'checkpoint_ns': '', 'checkpoint_id': '1f078375-cced-6d30-8001-fc95b112c184'}}, tasks=(), interrupts=()),\n",
       " StateSnapshot(values={'topic': 'School', 'joke': \"What do you call a teacher who's too strict?\\n\\nA stickler for classroom rules!\"}, next=('generate_explanation',), config={'configurable': {'thread_id': '2', 'checkpoint_ns': '', 'checkpoint_id': '1f078375-cced-6d30-8001-fc95b112c184'}}, metadata={'source': 'loop', 'step': 1, 'parents': {}}, created_at='2025-08-13T11:19:22.408068+00:00', parent_config={'configurable': {'thread_id': '2', 'checkpoint_ns': '', 'checkpoint_id': '1f078375-2dd3-60ab-8000-6c524f490582'}}, tasks=(PregelTask(id='67df9c5d-1e58-851e-1b17-b171c5e41272', name='generate_explanation', path=('__pregel_pull', 'generate_explanation'), error=None, interrupts=(), state=None, result={'explanation': \"The joke suggests that a strict teacher is inflexible and overly demanding. It implies that the teacher's rules and expectations are so strict that they restrict the students' freedom of expression and creativity.\"}),), interrupts=()),\n",
       " StateSnapshot(values={'topic': 'School'}, next=('generate_joke',), config={'configurable': {'thread_id': '2', 'checkpoint_ns': '', 'checkpoint_id': '1f078375-2dd3-60ab-8000-6c524f490582'}}, metadata={'source': 'loop', 'step': 0, 'parents': {}}, created_at='2025-08-13T11:19:05.717396+00:00', parent_config={'configurable': {'thread_id': '2', 'checkpoint_ns': '', 'checkpoint_id': '1f078375-2dbc-607e-bfff-f30b1804e23e'}}, tasks=(PregelTask(id='832402bf-a6b1-868f-a1ad-747ceeb4bd82', name='generate_joke', path=('__pregel_pull', 'generate_joke'), error=None, interrupts=(), state=None, result={'joke': \"What do you call a teacher who's too strict?\\n\\nA stickler for classroom rules!\"}),), interrupts=()),\n",
       " StateSnapshot(values={}, next=('__start__',), config={'configurable': {'thread_id': '2', 'checkpoint_ns': '', 'checkpoint_id': '1f078375-2dbc-607e-bfff-f30b1804e23e'}}, metadata={'source': 'input', 'step': -1, 'parents': {}}, created_at='2025-08-13T11:19:05.715314+00:00', parent_config=None, tasks=(PregelTask(id='736a3bdc-d95a-ebd9-6b74-2e4bfbcde532', name='__start__', path=('__pregel_pull', '__start__'), error=None, interrupts=(), state=None, result={'topic': 'School'}),), interrupts=())]"
      ]
     },
     "execution_count": 18,
     "metadata": {},
     "output_type": "execute_result"
    }
   ],
   "source": [
    "list(workflow.get_state_history(config2))"
   ]
  },
  {
   "cell_type": "code",
   "execution_count": null,
   "id": "eeeef82a",
   "metadata": {},
   "outputs": [],
   "source": []
  }
 ],
 "metadata": {
  "kernelspec": {
   "display_name": "venv",
   "language": "python",
   "name": "python3"
  },
  "language_info": {
   "codemirror_mode": {
    "name": "ipython",
    "version": 3
   },
   "file_extension": ".py",
   "mimetype": "text/x-python",
   "name": "python",
   "nbconvert_exporter": "python",
   "pygments_lexer": "ipython3",
   "version": "3.11.0"
  }
 },
 "nbformat": 4,
 "nbformat_minor": 5
}
