{
 "cells": [
  {
   "cell_type": "code",
   "execution_count": 15,
   "id": "cb21fafc",
   "metadata": {},
   "outputs": [],
   "source": [
    "from langgraph.graph import StateGraph , START , END\n",
    "from langchain_ollama import ChatOllama\n",
    "from langchain_core.messages import BaseMessage , HumanMessage\n",
    "from typing import Annotated , TypedDict\n",
    "from langgraph.checkpoint.memory import MemorySaver"
   ]
  },
  {
   "cell_type": "code",
   "execution_count": 16,
   "id": "b71702d5",
   "metadata": {},
   "outputs": [],
   "source": [
    "from langgraph.graph.message import add_messages\n",
    "\n",
    "class ChatState(TypedDict):\n",
    "    \n",
    "    messages : Annotated[list[BaseMessage],add_messages]\n",
    "    \n",
    "    "
   ]
  },
  {
   "cell_type": "code",
   "execution_count": 17,
   "id": "a297cf46",
   "metadata": {},
   "outputs": [],
   "source": [
    "llm = ChatOllama(model=\"gemma:2b\")\n",
    "\n",
    "def chat_node(state:ChatState):\n",
    "\n",
    "    messages = state['messages']\n",
    "    response = llm(messages)\n",
    "    \n",
    "    return {'messages': [response]}"
   ]
  },
  {
   "cell_type": "code",
   "execution_count": 24,
   "id": "597ed8c4",
   "metadata": {},
   "outputs": [],
   "source": [
    "graph = StateGraph(ChatState)\n",
    "checkpointer = MemorySaver()\n",
    "\n",
    "graph.add_node('chat_node',chat_node)\n",
    "\n",
    "graph.add_edge(START , 'chat_node')\n",
    "graph.add_edge('chat_node' , END)\n",
    "\n",
    "chatbot = graph.compile(checkpointer=checkpointer)"
   ]
  },
  {
   "cell_type": "code",
   "execution_count": 20,
   "id": "d1c5356b",
   "metadata": {},
   "outputs": [],
   "source": [
    "initial_state = {\n",
    "    'messages': [HumanMessage(\"What is the capital of Pakistan?\")]\n",
    "}\n",
    "\n",
    "# chatbot.invoke(initial_state)['messages'][-1].content"
   ]
  },
  {
   "cell_type": "code",
   "execution_count": 26,
   "id": "7d3fc722",
   "metadata": {},
   "outputs": [
    {
     "name": "stdout",
     "output_type": "stream",
     "text": [
      "User:  bye\n"
     ]
    }
   ],
   "source": [
    "thread_id = '1'\n",
    "while True:\n",
    "    \n",
    "    user_message = input(\"Write Something...\")\n",
    "    \n",
    "    print(\"User: \",user_message)\n",
    "    \n",
    "    if user_message.strip().lower() in ['exit','quit','bye']:\n",
    "        break\n",
    "    \n",
    "    config = {'configurable': {'thread_id': thread_id}}\n",
    "    \n",
    "    response = chatbot.invoke({\n",
    "        'messages': [HumanMessage(content = user_message)]\n",
    "    } ,config=config)\n",
    "    \n",
    "    print('AI: ', response['messages'][-1].content)"
   ]
  }
 ],
 "metadata": {
  "kernelspec": {
   "display_name": "venv",
   "language": "python",
   "name": "python3"
  },
  "language_info": {
   "codemirror_mode": {
    "name": "ipython",
    "version": 3
   },
   "file_extension": ".py",
   "mimetype": "text/x-python",
   "name": "python",
   "nbconvert_exporter": "python",
   "pygments_lexer": "ipython3",
   "version": "3.11.0"
  }
 },
 "nbformat": 4,
 "nbformat_minor": 5
}
